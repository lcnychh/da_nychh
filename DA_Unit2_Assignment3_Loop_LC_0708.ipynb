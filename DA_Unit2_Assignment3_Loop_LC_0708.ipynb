{
  "nbformat": 4,
  "nbformat_minor": 0,
  "metadata": {
    "colab": {
      "name": "DA_Unit2_Assignment3_Loop_LC_0708.ipynb",
      "provenance": [],
      "collapsed_sections": [],
      "include_colab_link": true
    },
    "kernelspec": {
      "name": "python3",
      "display_name": "Python 3"
    }
  },
  "cells": [
    {
      "cell_type": "markdown",
      "metadata": {
        "id": "view-in-github",
        "colab_type": "text"
      },
      "source": [
        "<a href=\"https://colab.research.google.com/github/lcnychh/da_nychh/blob/master/DA_Unit2_Assignment3_Loop_LC_0708.ipynb\" target=\"_parent\"><img src=\"https://colab.research.google.com/assets/colab-badge.svg\" alt=\"Open In Colab\"/></a>"
      ]
    },
    {
      "cell_type": "markdown",
      "metadata": {
        "id": "Vf00dTD8ImOy",
        "colab_type": "text"
      },
      "source": [
        "# 1.\tCreate a list that holds 5 data variables"
      ]
    },
    {
      "cell_type": "code",
      "metadata": {
        "id": "EkpxTDGXIr0z",
        "colab_type": "code",
        "colab": {}
      },
      "source": [
        "colors = ['yellow','blue','red','green','orange']"
      ],
      "execution_count": 1,
      "outputs": []
    },
    {
      "cell_type": "code",
      "metadata": {
        "id": "BEYAbeKfIghC",
        "colab_type": "code",
        "colab": {
          "base_uri": "https://localhost:8080/",
          "height": 34
        },
        "outputId": "d47158e2-c067-4de1-c3e8-8817ce20861e"
      },
      "source": [
        "colors"
      ],
      "execution_count": 2,
      "outputs": [
        {
          "output_type": "execute_result",
          "data": {
            "text/plain": [
              "['yellow', 'blue', 'red', 'green', 'orange']"
            ]
          },
          "metadata": {
            "tags": []
          },
          "execution_count": 2
        }
      ]
    },
    {
      "cell_type": "markdown",
      "metadata": {
        "id": "DJCoUtWFItLO",
        "colab_type": "text"
      },
      "source": [
        "# 2.\tPrint out those variables by using a for loop"
      ]
    },
    {
      "cell_type": "code",
      "metadata": {
        "id": "vMlTDEx-IwhJ",
        "colab_type": "code",
        "colab": {
          "base_uri": "https://localhost:8080/",
          "height": 102
        },
        "outputId": "bd985342-636c-4dbd-9dfe-a991853be3b5"
      },
      "source": [
        "for col in colors:\n",
        "  print(col)"
      ],
      "execution_count": 3,
      "outputs": [
        {
          "output_type": "stream",
          "text": [
            "yellow\n",
            "blue\n",
            "red\n",
            "green\n",
            "orange\n"
          ],
          "name": "stdout"
        }
      ]
    },
    {
      "cell_type": "markdown",
      "metadata": {
        "id": "0qmfDU_sIxK6",
        "colab_type": "text"
      },
      "source": [
        "# 3.\tModify your for loop to add a message to your for loop"
      ]
    },
    {
      "cell_type": "code",
      "metadata": {
        "id": "mwq4RZXQI1Ay",
        "colab_type": "code",
        "colab": {
          "base_uri": "https://localhost:8080/",
          "height": 102
        },
        "outputId": "252cf53b-0286-48a0-fea6-67911021bebf"
      },
      "source": [
        "for col in colors:\n",
        "  print(col.capitalize()+' is my favorite color.')"
      ],
      "execution_count": 5,
      "outputs": [
        {
          "output_type": "stream",
          "text": [
            "Yellow is my favorite color.\n",
            "Blue is my favorite color.\n",
            "Red is my favorite color.\n",
            "Green is my favorite color.\n",
            "Orange is my favorite color.\n"
          ],
          "name": "stdout"
        }
      ]
    },
    {
      "cell_type": "markdown",
      "metadata": {
        "id": "TihNGMcdI10W",
        "colab_type": "text"
      },
      "source": [
        "# 4.\tUse a for loop to print even numbers from 1-20"
      ]
    },
    {
      "cell_type": "code",
      "metadata": {
        "id": "_jOlbMLOI6qj",
        "colab_type": "code",
        "colab": {
          "base_uri": "https://localhost:8080/",
          "height": 34
        },
        "outputId": "4b3c92b2-38d2-4ae6-d7c7-aba0263e6443"
      },
      "source": [
        "my_list_even = list(range(2,21,2))\n",
        "my_list_even"
      ],
      "execution_count": 8,
      "outputs": [
        {
          "output_type": "execute_result",
          "data": {
            "text/plain": [
              "[2, 4, 6, 8, 10, 12, 14, 16, 18, 20]"
            ]
          },
          "metadata": {
            "tags": []
          },
          "execution_count": 8
        }
      ]
    },
    {
      "cell_type": "code",
      "metadata": {
        "id": "7mH2eL-zI7jP",
        "colab_type": "code",
        "colab": {
          "base_uri": "https://localhost:8080/",
          "height": 187
        },
        "outputId": "bd115dba-f9cc-4645-d847-c2f3f1ccd52d"
      },
      "source": [
        "for my_evens in my_list_even:\n",
        "  print(my_evens)\n"
      ],
      "execution_count": 12,
      "outputs": [
        {
          "output_type": "stream",
          "text": [
            "2\n",
            "4\n",
            "6\n",
            "8\n",
            "10\n",
            "12\n",
            "14\n",
            "16\n",
            "18\n",
            "20\n"
          ],
          "name": "stdout"
        }
      ]
    },
    {
      "cell_type": "markdown",
      "metadata": {
        "id": "iASbo9PjI8GF",
        "colab_type": "text"
      },
      "source": [
        "# 5.\tSort your list in alphabetic order."
      ]
    },
    {
      "cell_type": "code",
      "metadata": {
        "id": "JN6vUnG0I_8J",
        "colab_type": "code",
        "colab": {
          "base_uri": "https://localhost:8080/",
          "height": 34
        },
        "outputId": "d4ee9947-f00a-4081-edda-c79c92316f3d"
      },
      "source": [
        "colors.sort()\n",
        "print(colors)"
      ],
      "execution_count": 11,
      "outputs": [
        {
          "output_type": "stream",
          "text": [
            "['blue', 'green', 'orange', 'red', 'yellow']\n"
          ],
          "name": "stdout"
        }
      ]
    },
    {
      "cell_type": "markdown",
      "metadata": {
        "id": "fo0WVyBtJBvK",
        "colab_type": "text"
      },
      "source": [
        "# 6.\tPrint out the first three elements of your list"
      ]
    },
    {
      "cell_type": "code",
      "metadata": {
        "id": "kb6knAw3JGIR",
        "colab_type": "code",
        "colab": {
          "base_uri": "https://localhost:8080/",
          "height": 34
        },
        "outputId": "f3bfc027-d9db-4627-b809-f17e4bb0c7f7"
      },
      "source": [
        "print(colors[0:3])"
      ],
      "execution_count": 13,
      "outputs": [
        {
          "output_type": "stream",
          "text": [
            "['blue', 'green', 'orange']\n"
          ],
          "name": "stdout"
        }
      ]
    },
    {
      "cell_type": "code",
      "metadata": {
        "id": "BCbBslb4JGZr",
        "colab_type": "code",
        "colab": {
          "base_uri": "https://localhost:8080/",
          "height": 34
        },
        "outputId": "041ab7e6-0d9f-4546-f224-7a76ad7d6a88"
      },
      "source": [
        "print(colors[:3])"
      ],
      "execution_count": 14,
      "outputs": [
        {
          "output_type": "stream",
          "text": [
            "['blue', 'green', 'orange']\n"
          ],
          "name": "stdout"
        }
      ]
    },
    {
      "cell_type": "markdown",
      "metadata": {
        "id": "p3WfrdqlJG_G",
        "colab_type": "text"
      },
      "source": [
        "# 7.\tCreate a loop to print the last 2 elements of your list"
      ]
    },
    {
      "cell_type": "code",
      "metadata": {
        "id": "U_MXSFnnJKUY",
        "colab_type": "code",
        "colab": {
          "base_uri": "https://localhost:8080/",
          "height": 51
        },
        "outputId": "981ca544-2785-48a8-8f97-fca212369597"
      },
      "source": [
        "for col in colors[-2:]:\n",
        "  print(col)"
      ],
      "execution_count": 15,
      "outputs": [
        {
          "output_type": "stream",
          "text": [
            "red\n",
            "yellow\n"
          ],
          "name": "stdout"
        }
      ]
    }
  ]
}