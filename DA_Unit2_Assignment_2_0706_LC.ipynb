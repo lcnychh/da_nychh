{
  "nbformat": 4,
  "nbformat_minor": 0,
  "metadata": {
    "colab": {
      "name": "DA_Unit2_Assignment_2_0706_LC.ipynb",
      "provenance": [],
      "collapsed_sections": [],
      "include_colab_link": true
    },
    "kernelspec": {
      "name": "python3",
      "display_name": "Python 3"
    }
  },
  "cells": [
    {
      "cell_type": "markdown",
      "metadata": {
        "id": "view-in-github",
        "colab_type": "text"
      },
      "source": [
        "<a href=\"https://colab.research.google.com/github/lcnychh/da_nychh/blob/master/DA_Unit2_Assignment_2_0706_LC.ipynb\" target=\"_parent\"><img src=\"https://colab.research.google.com/assets/colab-badge.svg\" alt=\"Open In Colab\"/></a>"
      ]
    },
    {
      "cell_type": "markdown",
      "metadata": {
        "id": "EX-5qCzUzStx",
        "colab_type": "text"
      },
      "source": [
        "# 1. Create a list of 5 of your favorite tv shows.  "
      ]
    },
    {
      "cell_type": "code",
      "metadata": {
        "id": "XjZfVeJIzMHx",
        "colab_type": "code",
        "colab": {}
      },
      "source": [
        "fav_tv_shows=['Friends','Seinfeld','Frasier','Honeymooners','Lost']"
      ],
      "execution_count": null,
      "outputs": []
    },
    {
      "cell_type": "markdown",
      "metadata": {
        "id": "9rCzjtAdzWin",
        "colab_type": "text"
      },
      "source": [
        "# 2. Print the list in its original order"
      ]
    },
    {
      "cell_type": "code",
      "metadata": {
        "id": "74gHFkxUzbbh",
        "colab_type": "code",
        "colab": {
          "base_uri": "https://localhost:8080/",
          "height": 34
        },
        "outputId": "c604c5c1-f248-4b8e-8d30-6ef1bd7058ee"
      },
      "source": [
        "print(fav_tv_shows)"
      ],
      "execution_count": null,
      "outputs": [
        {
          "output_type": "stream",
          "text": [
            "['Friends', 'Seinfeld', 'Frasier', 'Honeymooners', 'Lost']\n"
          ],
          "name": "stdout"
        }
      ]
    },
    {
      "cell_type": "markdown",
      "metadata": {
        "id": "x2OaYEIxzaa2",
        "colab_type": "text"
      },
      "source": [
        "# 3.\tUse the sorted() function to print the list in alphabetical order.  How is sorted() different from sort()?"
      ]
    },
    {
      "cell_type": "code",
      "metadata": {
        "id": "XX8aasMjzi17",
        "colab_type": "code",
        "colab": {
          "base_uri": "https://localhost:8080/",
          "height": 34
        },
        "outputId": "48ae3d8d-cfc8-4778-b862-122539737614"
      },
      "source": [
        "print(sorted(fav_tv_shows))"
      ],
      "execution_count": null,
      "outputs": [
        {
          "output_type": "stream",
          "text": [
            "['Frasier', 'Friends', 'Honeymooners', 'Lost', 'Seinfeld']\n"
          ],
          "name": "stdout"
        }
      ]
    },
    {
      "cell_type": "code",
      "metadata": {
        "id": "VgVm2YwXzjRu",
        "colab_type": "code",
        "colab": {
          "base_uri": "https://localhost:8080/",
          "height": 34
        },
        "outputId": "62e85154-a940-4c06-8820-c2f05db52098"
      },
      "source": [
        "print(fav_tv_shows)"
      ],
      "execution_count": null,
      "outputs": [
        {
          "output_type": "stream",
          "text": [
            "['Friends', 'Seinfeld', 'Frasier', 'Honeymooners', 'Lost']\n"
          ],
          "name": "stdout"
        }
      ]
    },
    {
      "cell_type": "code",
      "metadata": {
        "id": "HiaD9W5wv8b4",
        "colab_type": "code",
        "colab": {
          "base_uri": "https://localhost:8080/",
          "height": 34
        },
        "outputId": "947f5a83-7a7a-4f88-a662-4cce9af03af1"
      },
      "source": [
        "fav_tv_shows.sort()\n",
        "print(fav_tv_shows)"
      ],
      "execution_count": null,
      "outputs": [
        {
          "output_type": "stream",
          "text": [
            "['Frasier', 'Friends', 'Honeymooners', 'Lost', 'Seinfeld']\n"
          ],
          "name": "stdout"
        }
      ]
    },
    {
      "cell_type": "markdown",
      "metadata": {
        "id": "PidMZMx7wN42",
        "colab_type": "text"
      },
      "source": [
        "Sorted() temporarily sorts a list as shown whereas Sort() sorts it permanently."
      ]
    },
    {
      "cell_type": "markdown",
      "metadata": {
        "id": "494nWJUfzhqp",
        "colab_type": "text"
      },
      "source": [
        "# 4.\tPrint out your original list."
      ]
    },
    {
      "cell_type": "code",
      "metadata": {
        "id": "BT2mLaGSzoNY",
        "colab_type": "code",
        "colab": {
          "base_uri": "https://localhost:8080/",
          "height": 34
        },
        "outputId": "d96a110f-3343-4695-8f32-2e03db130a26"
      },
      "source": [
        "print(fav_tv_shows)"
      ],
      "execution_count": null,
      "outputs": [
        {
          "output_type": "stream",
          "text": [
            "['Frasier', 'Friends', 'Honeymooners', 'Lost', 'Seinfeld']\n"
          ],
          "name": "stdout"
        }
      ]
    },
    {
      "cell_type": "markdown",
      "metadata": {
        "id": "Dg-glEN-xrC0",
        "colab_type": "text"
      },
      "source": [
        "Please note order is not specified and previously, Sort() function sorted list permanently."
      ]
    },
    {
      "cell_type": "markdown",
      "metadata": {
        "id": "C3haxfx-zooV",
        "colab_type": "text"
      },
      "source": [
        "# 5. Used sorted() to print your list in reverse alphabetical order"
      ]
    },
    {
      "cell_type": "code",
      "metadata": {
        "id": "4zJ0g_wPzsnD",
        "colab_type": "code",
        "colab": {
          "base_uri": "https://localhost:8080/",
          "height": 34
        },
        "outputId": "0c891771-cbb1-4316-acf3-e4c313b4e282"
      },
      "source": [
        "print(sorted(fav_tv_shows, reverse=True))"
      ],
      "execution_count": null,
      "outputs": [
        {
          "output_type": "stream",
          "text": [
            "['Seinfeld', 'Lost', 'Honeymooners', 'Friends', 'Frasier']\n"
          ],
          "name": "stdout"
        }
      ]
    },
    {
      "cell_type": "markdown",
      "metadata": {
        "id": "5kqS_EeKztaJ",
        "colab_type": "text"
      },
      "source": [
        "# 6\tCreate a message indicating how many favorite TV shows you have – use the len() function"
      ]
    },
    {
      "cell_type": "code",
      "metadata": {
        "id": "pm6NFrlH29pO",
        "colab_type": "code",
        "colab": {
          "base_uri": "https://localhost:8080/",
          "height": 34
        },
        "outputId": "c82c283a-ac64-4ecc-8a83-8ea19f39962c"
      },
      "source": [
        "print('I have '+str(len(fav_tv_shows))+' favorite TV shows.')"
      ],
      "execution_count": null,
      "outputs": [
        {
          "output_type": "stream",
          "text": [
            "I have 5 favorite TV shows.\n"
          ],
          "name": "stdout"
        }
      ]
    }
  ]
}