{
  "nbformat": 4,
  "nbformat_minor": 0,
  "metadata": {
    "colab": {
      "name": "DA_Projects_RPS_Game_and_Odd_Even_Num_0711_Linda_Chiu.ipynb",
      "provenance": [],
      "collapsed_sections": [],
      "authorship_tag": "ABX9TyMzLvCXbccAFp91jqdZAAWK",
      "include_colab_link": true
    },
    "kernelspec": {
      "name": "python3",
      "display_name": "Python 3"
    }
  },
  "cells": [
    {
      "cell_type": "markdown",
      "metadata": {
        "id": "view-in-github",
        "colab_type": "text"
      },
      "source": [
        "<a href=\"https://colab.research.google.com/github/lcnychh/da_nychh/blob/master/DA_Projects_RPS_Game_and_Odd_Even_Num_0711_Linda_Chiu.ipynb\" target=\"_parent\"><img src=\"https://colab.research.google.com/assets/colab-badge.svg\" alt=\"Open In Colab\"/></a>"
      ]
    },
    {
      "cell_type": "markdown",
      "metadata": {
        "id": "nkPw14wqSzsj",
        "colab_type": "text"
      },
      "source": [
        "## **ROCK-PAPER-SCISSORS GAME**"
      ]
    },
    {
      "cell_type": "code",
      "metadata": {
        "id": "VXK6gSzgS0X7",
        "colab_type": "code",
        "colab": {
          "base_uri": "https://localhost:8080/",
          "height": 544
        },
        "outputId": "92046b11-72d9-4991-826c-dad13b028b87"
      },
      "source": [
        "print('Let us play Rock-Paper-Scissors game! Good luck!')\n",
        "game_flag =True\n",
        "while game_flag:\n",
        "  player1_input = input('Please enter your choice of weapon (rock, paper, or scissors), player 1: ')\n",
        "  player2_input = input('please enter your choice of weapon (rock, paper, or scissors), player 2: ')\n",
        "  #if (player1_input == player2_input): This is commented in order to limit entry to rock, paper, scissor; next 3 IF stmts added instead\n",
        "  if (player1_input == 'rock' and player2_input == 'rock'):\n",
        "    print('There is no winner.')\n",
        "  elif (player1_input == 'scissors' and player2_input == 'scissors'):\n",
        "      print('There is no winner.')\n",
        "  elif (player1_input == 'paper' and player2_input == 'paper'):\n",
        "    print('There is no winner.')\n",
        "  elif (player1_input =='rock'and player2_input == 'scissors'):\n",
        "      print('Congratulations player 1, you are the winner- rock beats scissors!')\n",
        "  elif (player1_input =='rock'and player2_input == 'paper'):\n",
        "      print('Congratulations player 2, you are the winner- paper beats rock!')\n",
        "  elif (player1_input =='scissors'and player2_input == 'rock'):\n",
        "      print('Congratulations player 2, you are the winner- rock beats scissors!')\n",
        "  elif (player1_input =='scissors' and player2_input == 'paper'):\n",
        "      print('Congratulations player 1, you are the winner- scissors beats paper!')\n",
        "  elif (player1_input =='paper'and player2_input == 'rock'):\n",
        "      print('Congratulations player 1, you are the winner- paper beats rock!')\n",
        "  elif (player1_input =='paper' and player2_input == 'scissors'):\n",
        "      print('Congratulations player 2, you are the winner- scissors beats paper!')\n",
        "  player1_input2 = input('Do you want to start a new game, player 1? ')\n",
        "  player2_input2 = input('Do you want to start a new game, player 2? ')\n",
        "  if (player1_input2 == 'yes' and player2_input2 == 'yes'):\n",
        "        print('Great, let us keep playing.')\n",
        "  elif (player1_input2 == 'no' or player2_input2 == 'no'):\n",
        "        print('Hope you had fun! The game has ended.')\n",
        "        game_flag =False\n",
        "  else:\n",
        "        print('Hope you had fun! The game has ended.')\n",
        "        game_flag =False"
      ],
      "execution_count": null,
      "outputs": [
        {
          "output_type": "stream",
          "text": [
            "Let us play Rock-Paper-Scissors game! Good luck!\n",
            "Please enter your choice of weapon (rock, paper, or scissors), player 1: rock\n",
            "please enter your choice of weapon (rock, paper, or scissors), player 2: scissors\n",
            "Congratulations player 1, you are the winner- rock beats scissors!\n",
            "Do you want to start a new game, player 1? yes\n",
            "Do you want to start a new game, player 2? yes\n",
            "Great, let us keep playing.\n",
            "Please enter your choice of weapon (rock, paper, or scissors), player 1: paper\n",
            "please enter your choice of weapon (rock, paper, or scissors), player 2: paper\n",
            "There is no winner.\n",
            "Do you want to start a new game, player 1? yes\n",
            "Do you want to start a new game, player 2? yes\n",
            "Great, let us keep playing.\n",
            "Please enter your choice of weapon (rock, paper, or scissors), player 1: paper\n",
            "please enter your choice of weapon (rock, paper, or scissors), player 2: scissors\n",
            "Congratulations player 2, you are the winner- scissors beats paper!\n",
            "Do you want to start a new game, player 1? yes\n",
            "Do you want to start a new game, player 2? yes\n",
            "Great, let us keep playing.\n",
            "Please enter your choice of weapon (rock, paper, or scissors), player 1: scissors\n",
            "please enter your choice of weapon (rock, paper, or scissors), player 2: rock\n",
            "Congratulations player 2, you are the winner- rock beats scissors!\n",
            "Do you want to start a new game, player 1? yes\n",
            "Do you want to start a new game, player 2? yes\n",
            "Great, let us keep playing.\n",
            "Please enter your choice of weapon (rock, paper, or scissors), player 1: scissors\n",
            "please enter your choice of weapon (rock, paper, or scissors), player 2: paper\n",
            "Congratulations player 1, you are the winner- scissors beats paper!\n",
            "Do you want to start a new game, player 1? yes\n",
            "Do you want to start a new game, player 2? no\n",
            "Hope you had fun! The game has ended.\n"
          ],
          "name": "stdout"
        }
      ]
    },
    {
      "cell_type": "markdown",
      "metadata": {
        "id": "IDn2XOc5NQ1s",
        "colab_type": "text"
      },
      "source": [
        "## **EVEN / ODD NUMBER PROJECT**"
      ]
    },
    {
      "cell_type": "markdown",
      "metadata": {
        "id": "6cWhvUg_Js1Z",
        "colab_type": "text"
      },
      "source": [
        "**Method 1 (completed after lesson learned on Monday's 7-13-2020 class)**"
      ]
    },
    {
      "cell_type": "markdown",
      "metadata": {
        "id": "ayi-HcA4A5Il",
        "colab_type": "text"
      },
      "source": [
        "Ask the user for a number."
      ]
    },
    {
      "cell_type": "code",
      "metadata": {
        "id": "Z6pL2sY339xO",
        "colab_type": "code",
        "colab": {
          "base_uri": "https://localhost:8080/",
          "height": 51
        },
        "outputId": "a806954c-ebe8-435a-fb76-cd2487169c7b"
      },
      "source": [
        "num = int(input('Please enter a number: '))  \n",
        "if (num % 2) == 0 and (num % 4) != 0:  \n",
        "   print(str(num) + ' is an Even number')\n",
        "elif (num % 4) == 0:\n",
        "  print(str(num) + ' is a multiple of 4')\n",
        "else:  \n",
        "   print(str(num) + ' is an Odd number')  "
      ],
      "execution_count": null,
      "outputs": [
        {
          "output_type": "stream",
          "text": [
            "Please enter a number: 14\n",
            "14 is an Even number\n"
          ],
          "name": "stdout"
        }
      ]
    },
    {
      "cell_type": "code",
      "metadata": {
        "id": "cOpf5VDQMdnJ",
        "colab_type": "code",
        "colab": {
          "base_uri": "https://localhost:8080/",
          "height": 51
        },
        "outputId": "30c3054c-e6ae-4f02-aedf-a0106e049461"
      },
      "source": [
        "num = int(input('Please enter a number: '))  \n",
        "if (num % 2) == 0 and (num % 4) != 0:  \n",
        "   print(str(num) + ' is an Even number')\n",
        "elif (num % 4) == 0:\n",
        "  print(str(num) + ' is a multiple of 4')\n",
        "else:  \n",
        "   print(str(num) + ' is an Odd number')  "
      ],
      "execution_count": null,
      "outputs": [
        {
          "output_type": "stream",
          "text": [
            "Please enter a number: 32\n",
            "32 is a multiple of 4\n"
          ],
          "name": "stdout"
        }
      ]
    },
    {
      "cell_type": "markdown",
      "metadata": {
        "id": "h_lWS_hqA2Ce",
        "colab_type": "text"
      },
      "source": [
        "Ask the user for 2 numbers."
      ]
    },
    {
      "cell_type": "code",
      "metadata": {
        "id": "BVISNlA2Bgu7",
        "colab_type": "code",
        "colab": {
          "base_uri": "https://localhost:8080/",
          "height": 68
        },
        "outputId": "4da96a9d-9436-4b14-8099-15f780082ee9"
      },
      "source": [
        "num = int(input('Please enter a number: '))  \n",
        "check = int(input('Please enter a check (divisor) for the number: '))\n",
        "if (num/check % 1) == 0:\n",
        "  print('The check divides evenly into the number; the result is ' + str(num/check))\n",
        "else:\n",
        "  print('The check does not divide evenly into the number; the result is ' + str(num/check))"
      ],
      "execution_count": null,
      "outputs": [
        {
          "output_type": "stream",
          "text": [
            "Please enter a number: 25\n",
            "Please enter a check (divisor) for the number: 3\n",
            "The check does not divide evenly into the number; the result is 8.333333333333334\n"
          ],
          "name": "stdout"
        }
      ]
    },
    {
      "cell_type": "markdown",
      "metadata": {
        "id": "6oc9dSqlJPSs",
        "colab_type": "text"
      },
      "source": [
        "**Creative Method 2 using range and function (completed BEFORE lesson learned on Monday's 7-13-2020 class)**"
      ]
    },
    {
      "cell_type": "markdown",
      "metadata": {
        "id": "Lu8GPSDT3_zP",
        "colab_type": "text"
      },
      "source": [
        "Displaying a greeting function"
      ]
    },
    {
      "cell_type": "code",
      "metadata": {
        "id": "yVcldGk8Mq6j",
        "colab_type": "code",
        "colab": {
          "base_uri": "https://localhost:8080/",
          "height": 34
        },
        "outputId": "35f33091-e22e-457e-8d09-4933b1a68d1b"
      },
      "source": [
        "def greeting():\n",
        "  print('Hello there, please pick a number from 1-100.')\n",
        "greeting()"
      ],
      "execution_count": null,
      "outputs": [
        {
          "output_type": "stream",
          "text": [
            "Hello there, please pick a number from 1-100.\n"
          ],
          "name": "stdout"
        }
      ]
    },
    {
      "cell_type": "markdown",
      "metadata": {
        "id": "dGzMO9_DAasC",
        "colab_type": "text"
      },
      "source": [
        "Picking a number function"
      ]
    },
    {
      "cell_type": "code",
      "metadata": {
        "id": "5GEEGH87PG0o",
        "colab_type": "code",
        "colab": {}
      },
      "source": [
        "def number(num):\n",
        "  even_list = list(range(2,101,4))\n",
        "  odd_list = list(range(1,101,2))\n",
        "  mult4_list = list(range(4,101,4))\n",
        "\n",
        "  if num in even_list:\n",
        "    print('Thank you, this is an even number because it can be divided by 2 evenly.')\n",
        "  elif num in odd_list:\n",
        "    print('Thank you, this is an odd number because it cannot be divided by 2 evenly.')\n",
        "#Extras\n",
        "  elif num in mult4_list:\n",
        "    print('Thank you, this number is a multiple of 4.')\n",
        "  else:\n",
        "    print('Please pick a number again from 1-100, thank you.')"
      ],
      "execution_count": null,
      "outputs": []
    },
    {
      "cell_type": "markdown",
      "metadata": {
        "id": "gZgRP84Qy2LV",
        "colab_type": "text"
      },
      "source": [
        "Number picked and result"
      ]
    },
    {
      "cell_type": "code",
      "metadata": {
        "id": "I93Rabd5QJLH",
        "colab_type": "code",
        "colab": {
          "base_uri": "https://localhost:8080/",
          "height": 34
        },
        "outputId": "4cc6d8a0-6161-4072-cf35-5812ae3c221c"
      },
      "source": [
        "number(94)"
      ],
      "execution_count": null,
      "outputs": [
        {
          "output_type": "stream",
          "text": [
            "Thank you, this is an even number because it can be divided by 2 evenly.\n"
          ],
          "name": "stdout"
        }
      ]
    },
    {
      "cell_type": "code",
      "metadata": {
        "id": "XKWfb-MeVixU",
        "colab_type": "code",
        "colab": {
          "base_uri": "https://localhost:8080/",
          "height": 34
        },
        "outputId": "88365a26-120f-49ed-bb18-4a93f246c0dc"
      },
      "source": [
        "number(41)"
      ],
      "execution_count": null,
      "outputs": [
        {
          "output_type": "stream",
          "text": [
            "Thank you, this is an odd number because it cannot be divided by 2 evenly.\n"
          ],
          "name": "stdout"
        }
      ]
    },
    {
      "cell_type": "code",
      "metadata": {
        "id": "b1yVaLfvVjha",
        "colab_type": "code",
        "colab": {
          "base_uri": "https://localhost:8080/",
          "height": 34
        },
        "outputId": "7bafa88d-9ac3-40ab-a219-599aa019f9c2"
      },
      "source": [
        "number(16)"
      ],
      "execution_count": null,
      "outputs": [
        {
          "output_type": "stream",
          "text": [
            "Thank you, this number is a multiple of 4.\n"
          ],
          "name": "stdout"
        }
      ]
    },
    {
      "cell_type": "code",
      "metadata": {
        "id": "9Xbi4RP5V_uv",
        "colab_type": "code",
        "colab": {
          "base_uri": "https://localhost:8080/",
          "height": 34
        },
        "outputId": "0363a6be-f914-470b-95b9-89c6dcb28c04"
      },
      "source": [
        "number(295)"
      ],
      "execution_count": null,
      "outputs": [
        {
          "output_type": "stream",
          "text": [
            "Please pick a number again from 1-100, thank you.\n"
          ],
          "name": "stdout"
        }
      ]
    },
    {
      "cell_type": "markdown",
      "metadata": {
        "id": "VJ-uD4zOXRaF",
        "colab_type": "text"
      },
      "source": [
        "Displaying a greeting to pick 2 numbers function"
      ]
    },
    {
      "cell_type": "code",
      "metadata": {
        "id": "16FRS6zGXkoV",
        "colab_type": "code",
        "colab": {
          "base_uri": "https://localhost:8080/",
          "height": 34
        },
        "outputId": "1f8f90b5-172a-46be-f2b6-e17fce62aaf3"
      },
      "source": [
        "def greeting():\n",
        "  print('Hello there, please pick 2 numbers from 1-100 to check if one number divides evenly by the other number.')\n",
        "greeting()"
      ],
      "execution_count": null,
      "outputs": [
        {
          "output_type": "stream",
          "text": [
            "Hello there, please pick 2 numbers from 1-100 to check if one number divides evenly by the other number.\n"
          ],
          "name": "stdout"
        }
      ]
    },
    {
      "cell_type": "markdown",
      "metadata": {
        "id": "X1zC6Rnwz2ud",
        "colab_type": "text"
      },
      "source": [
        "Picking 2 numbers function"
      ]
    },
    {
      "cell_type": "code",
      "metadata": {
        "id": "DPZC0fXZw3Zw",
        "colab_type": "code",
        "colab": {}
      },
      "source": [
        "def two_numbers(num, check):\n",
        "  num_list = list(range(1,101))\n",
        "\n",
        "  if num/check in num_list:\n",
        "    print(str(check) + ' divides evenly into ' + str(num) + ' which the result is ' + str(num/check)) \n",
        "  else:\n",
        "    print(str(check) + ' does not divide evenly into ' + str(num) + ' which the result is ' + str(num/check))"
      ],
      "execution_count": null,
      "outputs": []
    },
    {
      "cell_type": "markdown",
      "metadata": {
        "id": "98HynpNiz7S_",
        "colab_type": "text"
      },
      "source": [
        "2 numbers picked and result"
      ]
    },
    {
      "cell_type": "code",
      "metadata": {
        "id": "lAUx0XXqxIWd",
        "colab_type": "code",
        "colab": {
          "base_uri": "https://localhost:8080/",
          "height": 34
        },
        "outputId": "7406975e-8d26-4d57-948f-f4fe8cf47419"
      },
      "source": [
        "two_numbers(50,2)"
      ],
      "execution_count": null,
      "outputs": [
        {
          "output_type": "stream",
          "text": [
            "2 divides evenly into 50 which the result is 25.0\n"
          ],
          "name": "stdout"
        }
      ]
    },
    {
      "cell_type": "code",
      "metadata": {
        "id": "NbdTeM9NxpNM",
        "colab_type": "code",
        "colab": {
          "base_uri": "https://localhost:8080/",
          "height": 34
        },
        "outputId": "af650f29-bb51-4b4a-cb57-30d802dea4d5"
      },
      "source": [
        "two_numbers(7,4)"
      ],
      "execution_count": null,
      "outputs": [
        {
          "output_type": "stream",
          "text": [
            "4 does not divide evenly into 7 which the result is 1.75\n"
          ],
          "name": "stdout"
        }
      ]
    }
  ]
}