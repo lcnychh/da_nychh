{
  "nbformat": 4,
  "nbformat_minor": 0,
  "metadata": {
    "colab": {
      "name": "DA_Unit2_Assignment_4_LC_0709.ipynb",
      "provenance": [],
      "collapsed_sections": [],
      "include_colab_link": true
    },
    "kernelspec": {
      "name": "python3",
      "display_name": "Python 3"
    }
  },
  "cells": [
    {
      "cell_type": "markdown",
      "metadata": {
        "id": "view-in-github",
        "colab_type": "text"
      },
      "source": [
        "<a href=\"https://colab.research.google.com/github/lcnychh/da_nychh/blob/master/DA_Unit2_Assignment_4_LC_0709.ipynb\" target=\"_parent\"><img src=\"https://colab.research.google.com/assets/colab-badge.svg\" alt=\"Open In Colab\"/></a>"
      ]
    },
    {
      "cell_type": "markdown",
      "metadata": {
        "id": "lAOW78oDCgre",
        "colab_type": "text"
      },
      "source": [
        "# 1.\tMake a list of 5 or more usernames, including an admin account.  Imagine you are writing code that will welcome people to your application on login. Loop through the list and print your greeting.\n",
        "a.\tIf the admin account logs in, give them a special greeting.  They’re the admin, after all!\n",
        "\n",
        "b.\tOther users can get the generic greeting\n"
      ]
    },
    {
      "cell_type": "code",
      "metadata": {
        "id": "8FD_Le8fCYdS",
        "colab_type": "code",
        "colab": {}
      },
      "source": [
        "username = ['smithl','johnsonp','kleinw','meyerf','sanchezj','leungm']"
      ],
      "execution_count": 38,
      "outputs": []
    },
    {
      "cell_type": "code",
      "metadata": {
        "id": "NvNe2sxTCq9N",
        "colab_type": "code",
        "colab": {
          "base_uri": "https://localhost:8080/",
          "height": 119
        },
        "outputId": "f48a7917-f163-439d-cd4e-e6ef6710e397"
      },
      "source": [
        "for user in username:\n",
        "  if user == 'sanchezj':\n",
        "    print(\"Hello Admin, \" + user + \", you are logged in!\")\n",
        "  else:\n",
        "    print(\"Welcome \" + user + \", you are logged in!\")"
      ],
      "execution_count": 39,
      "outputs": [
        {
          "output_type": "stream",
          "text": [
            "Welcome smithl, you are logged in!\n",
            "Welcome johnsonp, you are logged in!\n",
            "Welcome kleinw, you are logged in!\n",
            "Welcome meyerf, you are logged in!\n",
            "Hello Admin, sanchezj, you are logged in!\n",
            "Welcome leungm, you are logged in!\n"
          ],
          "name": "stdout"
        }
      ]
    },
    {
      "cell_type": "markdown",
      "metadata": {
        "id": "a8AKeUTnCrZz",
        "colab_type": "text"
      },
      "source": [
        "# 2.\tStore numbers 1-10 in a list\n",
        "\n",
        "a.\tLoop through the list\n",
        "\n",
        "b.\tUse an if-elif-else chain inside your loop to print the ordinal ending for each number – for example – 1st, 2nd, 3rd … etc.\n"
      ]
    },
    {
      "cell_type": "code",
      "metadata": {
        "id": "P3MMcWI_Cx78",
        "colab_type": "code",
        "colab": {
          "base_uri": "https://localhost:8080/",
          "height": 34
        },
        "outputId": "a8b3e4be-ca3f-48b9-a12f-a3dc0ec7963b"
      },
      "source": [
        "numbers = list(range(1,11))\n",
        "print(numbers)"
      ],
      "execution_count": 23,
      "outputs": [
        {
          "output_type": "stream",
          "text": [
            "[1, 2, 3, 4, 5, 6, 7, 8, 9, 10]\n"
          ],
          "name": "stdout"
        }
      ]
    },
    {
      "cell_type": "code",
      "metadata": {
        "id": "zWi7a-_pNUy6",
        "colab_type": "code",
        "colab": {
          "base_uri": "https://localhost:8080/",
          "height": 187
        },
        "outputId": "65ead1b9-1274-4d8c-cbdb-7f8f8a0e1ea5"
      },
      "source": [
        "for num in range(1,11):\n",
        "  print(num)"
      ],
      "execution_count": 34,
      "outputs": [
        {
          "output_type": "stream",
          "text": [
            "1\n",
            "2\n",
            "3\n",
            "4\n",
            "5\n",
            "6\n",
            "7\n",
            "8\n",
            "9\n",
            "10\n"
          ],
          "name": "stdout"
        }
      ]
    },
    {
      "cell_type": "code",
      "metadata": {
        "id": "J1LWj-tnCz8P",
        "colab_type": "code",
        "colab": {
          "base_uri": "https://localhost:8080/",
          "height": 187
        },
        "outputId": "7bde4579-60c0-47e6-e43a-b9c8076c5e51"
      },
      "source": [
        "for num in numbers:\n",
        "  if (num == 1):\n",
        "    print(str(num)+\"st\")\n",
        "  elif (num == 2):\n",
        "    print(str(num)+\"nd\")\n",
        "  elif (num == 3):\n",
        "    print(str(num)+\"rd\")\n",
        "  else:\n",
        "    print(str(num)+\"th\")\n"
      ],
      "execution_count": 35,
      "outputs": [
        {
          "output_type": "stream",
          "text": [
            "1st\n",
            "2nd\n",
            "3rd\n",
            "4th\n",
            "5th\n",
            "6th\n",
            "7th\n",
            "8th\n",
            "9th\n",
            "10th\n"
          ],
          "name": "stdout"
        }
      ]
    }
  ]
}